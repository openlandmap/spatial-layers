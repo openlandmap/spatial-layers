{
 "cells": [
  {
   "cell_type": "markdown",
   "id": "b959b3d0-a0d4-4da7-9f27-f915530d0871",
   "metadata": {
    "tags": []
   },
   "source": [
    "# Test for different multiscale approach\n",
    "\n",
    "In our research we found out using pyramid representation although saves the storage space but theoratically loses the precision in parameters. Therefore, in this script we tried to operate the different strategies in mutli-scale parametrization, including now:\n",
    "\n",
    "1. tune the search distance/step for diversifying scale\n",
    "2. coarsen the resolution, derive the parameters, and ultimately resample back\n"
   ]
  },
  {
   "cell_type": "markdown",
   "id": "06431dbb-e8bd-4a8e-816c-0795d2d99289",
   "metadata": {},
   "source": [
    "## Part 1: Set up"
   ]
  },
  {
   "cell_type": "code",
   "execution_count": null,
   "id": "fed3be49-cd90-45c7-bf38-3837b3a101d4",
   "metadata": {
    "tags": []
   },
   "outputs": [],
   "source": [
    "import os\n",
    "import rasterio\n",
    "import matplotlib.pyplot as plt\n",
    "os.environ['USE_PYGEOS'] = '0'\n",
    "import geopandas as gpd\n",
    "import numpy as np\n",
    "from shapely.geometry import Polygon,mapping,box\n",
    "from shapely import segmentize\n",
    "import time\n",
    "import sys\n",
    "from joblib import Parallel, delayed\n",
    "from minio import Minio\n",
    "from eumap.misc import ttprint\n",
    "import requests\n",
    "import pandas as pd\n",
    "import pickle\n",
    "# set up whiteboxworkflow environment\n",
    "import whitebox_workflows\n",
    "from whitebox_workflows import download_sample_data, show, WbEnvironment\n",
    "wbe = whitebox_workflows.WbEnvironment()\n",
    "import requests"
   ]
  },
  {
   "cell_type": "code",
   "execution_count": null,
   "id": "a833526b-cccb-491a-b9d4-862cdf321b3b",
   "metadata": {
    "tags": []
   },
   "outputs": [],
   "source": [
    "## scale factors for each parameters\n",
    "p_table=pd.read_csv('scaling.csv')\n",
    "p_table.head()"
   ]
  },
  {
   "cell_type": "code",
   "execution_count": null,
   "id": "e60dbb6d-7967-4119-8006-04ec27db0e68",
   "metadata": {
    "tags": []
   },
   "outputs": [],
   "source": [
    "#os.system(f'rm -r tmp-global-geomorpho/*')\n",
    "with open('/mnt/slurm/jobs/global_geomorphometric-whiteboxtool/shuf.txt', 'r') as file:\n",
    "    shuf = [int(line.strip()) for line in file]\n",
    "    \n",
    "with open(f'/mnt/slurm/jobs/global_geomorphometric-whiteboxtool/equi7_tiles', \"rb\") as fp:   # Unpickling\n",
    "    args_whole = pickle.load(fp)\n",
    "    \n",
    "start_tile=5\n",
    "end_tile=6\n",
    "args = args_whole[start_tile:end_tile]"
   ]
  },
  {
   "cell_type": "markdown",
   "id": "a85b6ff7-8d0e-43b7-a10f-f524e7661425",
   "metadata": {},
   "source": [
    "## Part 2: Run the parametrization in different approach using two examples\n",
    "\n",
    "1. geomorphons\n",
    "2. spherical_std_dev_of_normals"
   ]
  },
  {
   "cell_type": "code",
   "execution_count": null,
   "id": "808b8507-f983-4214-96e6-cc1bf29f3ea9",
   "metadata": {
    "tags": []
   },
   "outputs": [],
   "source": [
    "for info in args:\n",
    "    equi7_bounds_final,equi7_bounds_rls,epsg4326_bounds_rls,equi7_bounds_ls,epsg4326_bounds_ls,tile_name,equi_7_proj = info[0],info[1],info[2],info[3],info[4],info[5],info[6]\n",
    "\n",
    "\n",
    "    outdir=f'/mnt/apollo/tmp-global-geomorpho/{tile_name}'\n",
    "    os.makedirs(outdir,exist_ok=True)\n",
    "    gdalwarp_bbox_rls = ' '.join([str(i) for i in equi7_bounds_rls])\n",
    "    gdalwarp_bbox_ls = ' '.join([str(i) for i in equi7_bounds_ls])\n",
    "    gdalwarp_bbox_final = ' '.join([str(i) for i in equi7_bounds_final])\n",
    "    filepath = 'legendtm_rf_30m_m_s_20000101_20231231_go_epsg.4326_v20250130.tif'\n",
    "\n",
    "    start_time = time.time()\n",
    "    tmp_outdir=f'/tmp/tmp-global-geomorpho/{tile_name}'\n",
    "    os.makedirs(tmp_outdir,exist_ok=True)\n",
    "    gdal_cmd = f'gdalwarp  -co TILED=YES -co BIGTIFF=YES -co COMPRESS=DEFLATE \\\n",
    "    -co ZLEVEL=9 -co BLOCKXSIZE=1024 -co BLOCKYSIZE=1024 -co NUM_THREADS=8 \\\n",
    "    -co SPARSE_OK=TRUE -of GTiff -overwrite'\n",
    "    out_ori_file=f'dtm_edtm_m_30m_s_20000101_20221231_{tile_name.lower().replace(\"_\",\".\")}.rls_equi7_v20241230.tif'\n",
    "    url_rls=f'http://{ip}/tmp-global-geomorpho/v4/{tile_name}/{out_ori_file}'\n",
    "\n",
    "    r = requests.head(url_rls)\n",
    "    if r.status_code == 200:\n",
    "        ttprint(f'{url_rls} exists')\n",
    "    else:\n",
    "        rn_file = f'{tmp_outdir}/{out_ori_file}'\n",
    "        os.system(f'{gdal_cmd} -t_srs \"{equi_7_proj}\" \\\n",
    "        -te {gdalwarp_bbox_rls} -tr 30 30 -r bilinear {filepath} {tmp_outdir}/scaled_dtm_tmp_rls.tif')\n",
    "        os.system(f'gdal_calc.py --overwrite -A {tmp_outdir}/scaled_dtm_tmp_rls.tif \\\n",
    "        --outfile={rn_file} --calc=\"A * 0.1\" \\\n",
    "        --type=Float32 --co=\"COMPRESS=DEFLATE\" --co=\"BLOCKXSIZE=2048\" --co=\"BLOCKYSIZE=2048\"')\n",
    "        \n",
    "    for resolution in [60]:\n",
    "        url=f'http://{ip}/tmp-global-geomorpho/{tile_name}/tan.curv_edtm_m_{resolution}m_s_20000101_20221231_go_epsg.4326_v20241230.tif'\n",
    " \n",
    "        if resolution==30:\n",
    "            tmp_dtm_rls_file = f'{tmp_outdir}/dtm_tmp_rls_{resolution}.tif'\n",
    "            os.system(f'{gdal_cmd} /vsicurl/{url_rls} {tmp_dtm_rls_file}')\n",
    "            # crop to local land surface tiff\n",
    "            tmp_dtm_ls_file = f'{tmp_outdir}/dtm_tmp_ls.tif'\n",
    "            os.system(f'{gdal_cmd} -te {gdalwarp_bbox_ls} /vsicurl/{url_rls} {tmp_dtm_ls_file}')\n",
    "\n",
    "        else:            \n",
    "            # crop to regional land surface tiff\n",
    "            tmp_dtm_rls_file = f'{tmp_outdir}/dtm_tmp_rls_{resolution}.tif'\n",
    "            os.system(f'{gdal_cmd} -r average -tr {resolution} {resolution} -te {gdalwarp_bbox_rls} /vsicurl/{url_rls} {tmp_dtm_rls_file}')\n",
    "     \n",
    "            # crop to local land surface tiff\n",
    "            tmp_dtm_ls_file = f'{tmp_outdir}/dtm_tmp_ls_{resolution}.tif'\n",
    "            os.system(f'{gdal_cmd} -r average -tr {resolution} {resolution} -te {gdalwarp_bbox_ls} /vsicurl/{url_rls} {tmp_dtm_ls_file}')\n",
    "    \n",
    "        # crop the landmask\n",
    "        global_landmask_file='http://{ip}/global/dsm.landmask_ensemble_m_30m_s_20000101_20221231_go_epsg.4326_v4.1.tif'\n",
    "        tmp_landmask_file = f'{tmp_outdir}/landmask_{resolution}.tif'\n",
    "        os.system(f'{gdal_cmd} -t_srs \"{equi_7_proj}\" -r min -tr {resolution} {resolution} -te {gdalwarp_bbox_final} {global_landmask_file} {tmp_landmask_file}')\n",
    "\n",
    "\n",
    "        start_time = time.time()\n",
    "        # Reading raster data\n",
    "        dtm = wbe.read_raster(tmp_dtm_rls_file)\n",
    "        ttprint(f\"{tile_name} read_raster--- %s seconds ---\" % (time.time() - start_time))\n",
    "\n",
    "        file_list=[]\n",
    "        if resolution == 30:\n",
    "            start_time = time.time()\n",
    "            dtm = wbe.gaussian_filter(dtm)\n",
    "            ttprint(f\"{tile_name} calculate gaussian filter--- %s seconds ---\" % (time.time() - start_time))    \n",
    "\n",
    "\n",
    "        # geomorphon\n",
    "        tmp_geomorphon_file=tmp_dtm_rls_file.replace('dtm','geomorphon.3')\n",
    "        scale=p_table[p_table['parameters']=='geomorphon'].multiplier.iloc[0]\n",
    "\n",
    "        start_time = time.time()\n",
    "        geomorphon=wbe.geomorphons(dtm, search_distance=3, \n",
    "                                  output_forms=True, analyze_residuals=False)\n",
    "        wbe.write_raster(geomorphon*scale, tmp_geomorphon_file, compress=True)#, compress=False) # Compression is good, but it is a bit slower so here we won't use it.\n",
    "        ttprint(f\"{tile_name} calculate geomporphon--- %s seconds ---\" % (time.time() - start_time))    \n",
    "        file_list.append(tmp_geomorphon_file)\n",
    "\n",
    "        tmp_geomorphon_file=tmp_dtm_rls_file.replace('dtm','geomorphon.6')\n",
    "        scale=p_table[p_table['parameters']=='geomorphon'].multiplier.iloc[0]\n",
    "\n",
    "        start_time = time.time()\n",
    "        geomorphon=wbe.geomorphons(dtm, search_distance=6, \n",
    "                                  output_forms=True, analyze_residuals=False)\n",
    "        wbe.write_raster(geomorphon*scale, tmp_geomorphon_file, compress=True)#, compress=False) # Compression is good, but it is a bit slower so here we won't use it.\n",
    "        ttprint(f\"{tile_name} calculate geomporphon--- %s seconds ---\" % (time.time() - start_time))    \n",
    "        file_list.append(tmp_geomorphon_file)\n",
    "\n",
    "        #Spherical Std Dev Of Normals\n",
    "        start_time = time.time()\n",
    "        tmp_ssdon_file=tmp_dtm_ls_file.replace('dtm','ssdon.3')\n",
    "        scale=p_table[p_table['parameters']=='ssdon'].multiplier.iloc[0]\n",
    "\n",
    "        start_time = time.time()\n",
    "        ssdon=wbe.spherical_std_dev_of_normals(\n",
    "            dtm, \n",
    "            filter_size=3 \n",
    "        )\n",
    "\n",
    "        wbe.write_raster(ssdon*scale, tmp_ssdon_file, compress=True) # Compression is good, but it is a bit slower so here we won't use it.\n",
    "        ttprint(f\"{tile_name} spherical std dev of normals--- %s seconds ---\" % (time.time() - start_time))\n",
    "        file_list.append(tmp_ssdon_file)\n",
    "\n",
    "        #Spherical Std Dev Of Normals\n",
    "        start_time = time.time()\n",
    "        tmp_ssdon_file=tmp_dtm_ls_file.replace('dtm','ssdon.6')\n",
    "        scale=p_table[p_table['parameters']=='ssdon'].multiplier.iloc[0]\n",
    "\n",
    "        start_time = time.time()\n",
    "        ssdon=wbe.spherical_std_dev_of_normals(\n",
    "            dtm, \n",
    "            filter_size=6\n",
    "        )\n",
    "\n",
    "        wbe.write_raster(ssdon*scale, tmp_ssdon_file, compress=True) # Compression is good, but it is a bit slower so here we won't use it.\n",
    "        ttprint(f\"{tile_name} spherical std dev of normals--- %s seconds ---\" % (time.time() - start_time))\n",
    "        file_list.append(tmp_ssdon_file)\n",
    "\n",
    "        \n",
    "        start_time = time.time()\n",
    "        def para_gdal_warp(file_path,tile_name,bbox,p_table,tmp_landmask_file):\n",
    "            file_name = file_path.split('/')[-1]\n",
    "            parameter = file_name.split('_')[0]\n",
    "            dtype=p_table[p_table['parameters']==parameter.split('.')[0]].new_data_type.iloc[0]\n",
    "            no_data=p_table[p_table['parameters']==parameter.split('.')[0]].no_data.iloc[0]\n",
    "\n",
    "            gdalcmd = f'gdalwarp -overwrite -ot {dtype} -tr {resolution} {resolution} -te {bbox} -co TILED=YES -co BIGTIFF=YES -co COMPRESS=DEFLATE -co ZLEVEL=9 -co BLOCKXSIZE=2048 -co BLOCKYSIZE=2048 -co NUM_THREADS=8 -co SPARSE_OK=TRUE'\n",
    "\n",
    "            file_name = parameter + '_edtm' + '_m' + f'_{resolution}m' + '_s' + '_20000101_20221231' + '_go'  + '_epsg.4326' + '_v20241230' + '.tif'\n",
    "            out_path = f'{outdir}/{file_name}'\n",
    "            tmp_out_path = f'{outdir}/tmp_{file_name}'\n",
    "            os.system(f'{gdalcmd} {file_path} {tmp_out_path}')\n",
    "            # landmasking\n",
    "            os.system(f'gdal_calc.py -A {tmp_out_path} -B {tmp_landmask_file} --overwrite --outfile={out_path} \\\n",
    "                        --calc=\"(B==100)*A + (B!=100)*{no_data}\" --type={dtype} --co=\"ZLEVEL=9\" --co=\"COMPRESS=DEFLATE\" \\\n",
    "                        --co=\"BLOCKXSIZE=2048\" --NoDataValue={no_data} --co=\"BLOCKYSIZE=2048\" \\\n",
    "                        --co=\"NUM_THREADS=8\" --co=\"SPARSE_OK=TRUE\"')\n",
    "            os.remove(file_path)\n",
    "            return out_path,file_name\n",
    "\n",
    "        args = [(i,tile_name,gdalwarp_bbox_final,p_table,tmp_landmask_file) for i in file_list]\n",
    "        for arg in args:\n",
    "            out_file,rn_file=para_gdal_warp(arg[0],arg[1],arg[2],arg[3],arg[4])\n",
    "            s3_path = f\"{tile_name}/{rn_file}\"\n",
    "            #client.fput_object(s3_config['bucket'], s3_path, out_file)\n",
    "            #os.remove(out_file)\n",
    "            ttprint(f'http://{ip}/tmp-global-geomorpho/{s3_path} on S3')\n",
    "        os.remove(tmp_dtm_ls_file)\n",
    "        os.remove(tmp_dtm_rls_file)\n",
    "        os.system(f'rm -r {tmp_outdir}/*')\n",
    "        ttprint(f\"{tile_name} crop and save to local--- %s seconds ---\" % (time.time() - start_time))\n",
    "\n",
    "#Parallel(n_jobs=10)(delayed(worker)(i,p_table) for i in args)"
   ]
  },
  {
   "cell_type": "markdown",
   "id": "745da844-089c-43d8-8268-113adb9ed1a8",
   "metadata": {},
   "source": [
    "## Part 3: Crop and compare"
   ]
  },
  {
   "cell_type": "code",
   "execution_count": null,
   "id": "491dbc38-8ed9-4c55-a1e0-d16cc1b3a1fb",
   "metadata": {},
   "outputs": [],
   "source": [
    "# generic gdal command\n",
    "gdalcmd = f'gdalwarp -overwrite -r cubicspline -tr 60 60 -co TILED=YES -co BIGTIFF=YES -co COMPRESS=DEFLATE -co ZLEVEL=9 -co BLOCKXSIZE=2048 -co BLOCKYSIZE=2048 -co NUM_THREADS=8 -co SPARSE_OK=TRUE'"
   ]
  },
  {
   "cell_type": "code",
   "execution_count": null,
   "id": "a352a7f0-0cf2-4fde-99fc-69b493b2e8d9",
   "metadata": {
    "tags": []
   },
   "outputs": [],
   "source": [
    "os.system(f'{gdalcmd} test_tiles/geomorphon.3_edtm_m_120m_s_20000101_20221231_go_epsg.4326_v20241230.tiff \\\n",
    "test_tiles/geomorphon.r120_edtm_m_60m_s_20000101_20221231_go_epsg.4326_v20241230.tiff')"
   ]
  },
  {
   "cell_type": "code",
   "execution_count": null,
   "id": "14701163-ec37-4bb9-8a7a-942cf15a0158",
   "metadata": {
    "tags": []
   },
   "outputs": [],
   "source": [
    "os.system(f'{gdalcmd} test_tiles/ssdon.3_edtm_m_120m_s_20000101_20221231_go_epsg.4326_v20241230.tiff \\\n",
    "test_tiles/ssdon.r120_edtm_m_60m_s_20000101_20221231_go_epsg.4326_v20241230.tiff')"
   ]
  },
  {
   "cell_type": "code",
   "execution_count": null,
   "id": "8093731c-8c36-4dc1-8883-e5b2efc5ee6a",
   "metadata": {
    "tags": []
   },
   "outputs": [],
   "source": [
    "sshon_r120m=rasterio.open('test_tiles/ssdon.r120_edtm_m_60m_s_20000101_20221231_go_epsg.4326_v20241230.tiff').read(1)\n",
    "sshon_60m=rasterio.open('test_tiles/ssdon.6_edtm_m_60m_s_20000101_20221231_go_epsg.4326_v20241230.tiff').read(1)"
   ]
  },
  {
   "cell_type": "code",
   "execution_count": null,
   "id": "c2f3e43e-01e5-46c6-89ad-73e0c59170e4",
   "metadata": {
    "tags": []
   },
   "outputs": [],
   "source": [
    "plt.scatter(sshon_60m,sshon_r120m)"
   ]
  }
 ],
 "metadata": {
  "kernelspec": {
   "display_name": "Python 3 (ipykernel)",
   "language": "python",
   "name": "python3"
  },
  "language_info": {
   "codemirror_mode": {
    "name": "ipython",
    "version": 3
   },
   "file_extension": ".py",
   "mimetype": "text/x-python",
   "name": "python",
   "nbconvert_exporter": "python",
   "pygments_lexer": "ipython3",
   "version": "3.8.16"
  }
 },
 "nbformat": 4,
 "nbformat_minor": 5
}
