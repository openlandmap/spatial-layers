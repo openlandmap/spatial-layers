{
 "cells": [
  {
   "cell_type": "markdown",
   "id": "4e3387f7-dcfc-48a3-8dba-6edda332cc38",
   "metadata": {},
   "source": [
    "# Generate tiles for fine resolution land relief parameterization\n",
    "\n",
    "This script is dedicated to generating tile that can be used for fine resolution land relief parameterization. In general, they are three types of tile.\n",
    "\n",
    "1. regional tile\n",
    "\n",
    "Regional tile has an extend distance of 3392*30=101,760km (pixel x resolution). Due to the factor of 2, which in 960m resolution the extend pixels would be 106. \n",
    "\n",
    "2. local tile\n",
    "\n",
    "Local tile has an extend distance of 64*30=1.92km (pixel x resolution). Due to the factor of 2, which in 240m resolution the extend pixels would be 8\n",
    "\n",
    "3. final tile\n",
    "final tile is used to crop the parameters before saving. It has an extend distance of 960m. It removes the border effect and the tile would be 4 pixels overlap to make sure there'd be no line in the map. \n",
    "\n",
    "- irregular tile\n",
    "\n",
    "There is a set of tile which is classified as irregular tiles. The irregular tiles were either missing out from the equi7 tiling system or across 180th meridians. The detail is explained in the paper. Due to its characteristics, the tile has the same boundary of regional, local and final tile. The reason is these irregular tiles would service at the bottom of the tile so the border effect will be covered by the regular tiles."
   ]
  },
  {
   "cell_type": "markdown",
   "id": "b5ce6c94-d1a9-4374-9a81-5d878b848890",
   "metadata": {},
   "source": [
    "## Part 1: Setup"
   ]
  },
  {
   "cell_type": "code",
   "execution_count": 4,
   "id": "a5a4603e-6485-4aeb-b6ba-35b34dd6c8c6",
   "metadata": {
    "tags": []
   },
   "outputs": [
    {
     "name": "stderr",
     "output_type": "stream",
     "text": [
      "/opt/conda/lib/python3.8/site-packages/geopandas/_compat.py:124: UserWarning: The Shapely GEOS version (3.11.3-CAPI-1.17.3) is incompatible with the GEOS version PyGEOS was compiled with (3.11.1-CAPI-1.17.1). Conversions between both will be slow.\n",
      "  warnings.warn(\n",
      "/tmp/ipykernel_8100/3041233406.py:2: DeprecationWarning: Shapely 2.0 is installed, but because PyGEOS is also installed, GeoPandas still uses PyGEOS by default. However, starting with version 0.14, the default will switch to Shapely. To force to use Shapely 2.0 now, you can either uninstall PyGEOS or set the environment variable USE_PYGEOS=0. You can do this before starting the Python process, or in your code before importing geopandas:\n",
      "\n",
      "import os\n",
      "os.environ['USE_PYGEOS'] = '0'\n",
      "import geopandas\n",
      "\n",
      "In the next release, GeoPandas will switch to using Shapely by default, even if PyGEOS is installed. If you only have PyGEOS installed to get speed-ups, this switch should be smooth. However, if you are using PyGEOS directly (calling PyGEOS functions on geometries from GeoPandas), this will then stop working and you are encouraged to migrate from PyGEOS to Shapely 2.0 (https://shapely.readthedocs.io/en/latest/migration_pygeos.html).\n",
      "  import geopandas as gpd\n"
     ]
    }
   ],
   "source": [
    "import os\n",
    "import geopandas as gpd\n",
    "import numpy as np\n",
    "from shapely.geometry import Polygon,mapping,box\n",
    "from shapely import segmentize\n",
    "import pickle\n",
    "\n",
    "def find_equi_7_proj(epsg4326_bound,equi_7_proj):\n",
    "    # Extract coordinates from bounding box\n",
    "    xmin, ymin, xmax, ymax = epsg4326_bound\n",
    "\n",
    "    # Define coordinates for the polygon\n",
    "    polygon_coords = [(xmin, ymin), (xmax, ymin), (xmax, ymax),(xmin, ymax)]\n",
    "\n",
    "    # Create polygon\n",
    "    polygon = Polygon(polygon_coords)\n",
    "\n",
    "    # Create a GeoDataFrame with a single row representing the bounding box\n",
    "    gdf = gpd.GeoDataFrame(geometry=[Polygon(polygon_coords)])\n",
    "    # Set CRS for the GeoDataFrame\n",
    "    gdf.crs = 'EPSG:4326'\n",
    "    # Check the resulting GeoDataFrame\n",
    "    gdf.geometry = segmentize(gdf.geometry,max_segment_length=0.000277778)\n",
    "\n",
    "    return gdf.to_crs(equi_7_proj).geometry.bounds.values[0]\n",
    "\n",
    "def find_epsg4326_proj(equi7_bound,equi_7_proj):\n",
    "    # Extract coordinates from bounding box\n",
    "    xmin, ymin, xmax, ymax = equi7_bound\n",
    "\n",
    "    # Define coordinates for the polygon\n",
    "    polygon_coords = [(xmin, ymin), (xmax, ymin), (xmax, ymax),(xmin, ymax)]\n",
    "\n",
    "    # Create polygon\n",
    "    polygon = Polygon(polygon_coords)\n",
    "\n",
    "    # Create a GeoDataFrame with a single row representing the bounding box\n",
    "    gdf = gpd.GeoDataFrame(geometry=[Polygon(polygon_coords)])\n",
    "    # Set CRS for the GeoDataFrame\n",
    "    gdf.crs = equi_7_proj\n",
    "    gdf.geometry = segmentize(gdf.geometry,max_segment_length=30)\n",
    "    return gdf.to_crs('EPSG:4326')\n",
    "\n",
    "equi7_ind={'AF':'+proj=aeqd +lat_0=8.5 +lon_0=21.5 +x_0=5621452.01998 +y_0=5990638.42298 +datum=WGS84 +units=m +no_defs',\n",
    "'AN':'+proj=aeqd +lat_0=-90 +lon_0=0 +x_0=3714266.97719 +y_0=3402016.50625 +datum=WGS84 +units=m +no_defs',\n",
    "'AS':'+proj=aeqd +lat_0=47 +lon_0=94 +x_0=4340913.84808 +y_0=4812712.92347 +datum=WGS84 +units=m +no_defs',\n",
    "'EU':'+proj=aeqd +lat_0=53 +lon_0=24 +x_0=5837287.81977 +y_0=2121415.69617 +datum=WGS84 +units=m +no_defs',\n",
    "'NA':'+proj=aeqd +lat_0=52 +lon_0=-97.5 +x_0=8264722.17686 +y_0=4867518.35323 +datum=WGS84 +units=m +no_defs',\n",
    "'OC':'+proj=aeqd +lat_0=-19.5 +lon_0=131.5 +x_0=6988408.5356 +y_0=7654884.53733 +datum=WGS84 +units=m +no_defs',\n",
    "'SA':'+proj=aeqd +lat_0=-14 +lon_0=-60.5 +x_0=7257179.23559 +y_0=5592024.44605 +datum=WGS84 +units=m +no_defs'}\n",
    "\n",
    "conts = ['AF',\n",
    "'AN',\n",
    "'AS',\n",
    "'EU',\n",
    "'NA',\n",
    "'OC',\n",
    "'SA']\n",
    "\n"
   ]
  },
  {
   "cell_type": "markdown",
   "id": "db88b99c-1158-40e5-8da3-16cc5ff836eb",
   "metadata": {
    "tags": []
   },
   "source": [
    "## Part 2: Generate tiles in a for-loop\n",
    "\n",
    "- loop1: continent\n",
    "- loop2: tiles\n",
    "\n",
    "The irregular tiles have their own loops and at the final the two lists will be merged into one.\n",
    "\n",
    "The Equi7Grid tile can be downloaded from this GitHub repository (https://github.com/TUW-GEO/Equi7Grid)"
   ]
  },
  {
   "cell_type": "code",
   "execution_count": 26,
   "id": "c332b300-05d1-494b-a8f1-1485358f36f6",
   "metadata": {
    "tags": []
   },
   "outputs": [],
   "source": [
    "args=[]\n",
    "rls_padding=3392     #3392*30=101760 is equivalent to 106 pixel in 960m resolution\n",
    "ls_padding=64        #64*30=960 is equivalent to 1 pixel in 960m resolution\n",
    "for cont in conts:\n",
    "    equi_7_proj=equi7_ind[cont]\n",
    "    proj_dir = f'Equi7Grid/src/equi7grid/grids/{cont}/PROJ/'\n",
    "    for i in [i for i in os.scandir(proj_dir) if 'T6' in i.name and 'shp' in i.name]:\n",
    "        equi7_grid = gpd.read_file(i.path)\n",
    "        equi7_grid = equi7_grid[equi7_grid['COVERSLAND']==1]\n",
    "        epsg4326_grid = equi7_grid.to_crs(epsg=4326)\n",
    "        for tile_id in range(len(equi7_grid)):\n",
    "            equi7_bound = np.array(equi7_grid.bounds.iloc[tile_id])\n",
    "            epsg4326_bound = np.array(epsg4326_grid.bounds.iloc[tile_id])\n",
    "            tile_name = equi7_grid.SHORTNAME.iloc[tile_id].split('_')[-1] + '_' + equi7_grid.TILE.iloc[tile_id] \n",
    "            tile = equi7_grid.TILE.iloc[tile_id]\n",
    "            if tile_name.startswith('AN'):\n",
    "                continue\n",
    "            if abs(epsg4326_bound[0] - epsg4326_bound[2]) >150 : ##AS\n",
    "                continue\n",
    "\n",
    "            equi7_bounds = equi7_grid[equi7_grid['TILE'] == tile].geometry.bounds\n",
    "            equi7_bounds = np.array(equi7_bounds)[0]\n",
    "            equi7_bounds_final = np.array([equi7_bounds[0]-960\n",
    "                                           ,equi7_bounds[1]-960 ,equi7_bounds[2]+960 ,equi7_bounds[3]+960])\n",
    "            equi7_bounds_rls = np.array([equi7_bounds[0]-rls_padding*30\n",
    "                                           ,equi7_bounds[1]-rls_padding*30 ,equi7_bounds[2]+rls_padding*30 ,equi7_bounds[3]+rls_padding*30])\n",
    "            equi7_bounds_ls = np.array([equi7_bounds[0]-ls_padding*30\n",
    "                                           ,equi7_bounds[1]-ls_padding*30 ,equi7_bounds[2]+ls_padding*30 ,equi7_bounds[3]+ls_padding*30])\n",
    "\n",
    "            epsg4326_bounds_final = find_epsg4326_proj(equi7_bounds_final,equi_7_proj).geometry.bounds.values[0]\n",
    "            epsg4326_bounds_rls = find_epsg4326_proj(equi7_bounds_rls,equi_7_proj).geometry.bounds.values[0]\n",
    "            epsg4326_bounds_ls = find_epsg4326_proj(equi7_bounds_ls,equi_7_proj).geometry.bounds.values[0]\n",
    "            args.append((equi7_bounds_final,equi7_bounds_rls,epsg4326_bounds_rls,equi7_bounds_ls,epsg4326_bounds_ls,tile_name,equi_7_proj))\n",
    "\n",
    "# russia-us\n",
    "epsg4326_bounds_chuckotka = np.array([-180,50.696,-168.3,83.3])\n",
    "epsg4326_bounds_chuckotka2 = np.array([159.657,58.148,180,73.442])\n",
    "epsg4326_bounds_agattu = np.array([172.3292,53.2292,176.3044,52.0630])\n",
    "# pacific islands\n",
    "epsg4326_bounds_pukapuka = np.array([-163.621,-13.863,-162.621,-12.863])\n",
    "epsg4326_bounds_plamerston = np.array([-163.6532,-18.5411,-162.6532,-17.5411])\n",
    "epsg4326_bounds_futuna = np.array([-178.60509,-14.91163,-177.60509,-13.91163])\n",
    "epsg4326_bounds_vahen = np.array([-176.13766,-16.10176,-175.13766,-15.10176])\n",
    "epsg4326_bounds_uvea = np.array([-175.70106,-12.78761,-176.70106,-13.78761])\n",
    "epsg4326_bounds_tonga = np.array([-175.6306,-21.0206,-173.6306,-19.0206])\n",
    "epsg4326_bounds_hunga = np.array([-175.99074,-21.14193,-174.99074,-20.14193])\n",
    "epsg4326_bounds_tuvana = np.array([-179.29184,-21.52716,-178.29184,-20.52716])\n",
    "epsg4326_bounds_tonga_atoll = np.array([-179.5027,-24.2846,-178.5027,-23.2846])\n",
    "epsg4326_bounds_kermadec = np.array([-179.2019,-30.7827,-177.2019,-28.7827])\n",
    "epsg4326_bounds_moutere = np.array([168.66513,-53.04048,169.66513,-52.04048])\n",
    "epsg4326_bounds_newzealand_north = np.array([172.122,-41.794,180,-33.825])\n",
    "epsg4326_bounds_okinotori = np.array([136.177838,20.322660,135.977838,20.522660])\n",
    "epsg4326_bounds_yap = np.array([140.88595,7.63592,139.88595,8.63592])\n",
    "epsg4326_bounds_yap2 = np.array([142.6412,6.4175,148.079,9.494])\n",
    "epsg4326_bounds_luf = np.array([144.56444,-2.02959,145.56444,-1.02959])\n",
    "epsg4326_bounds_anewetak = np.array([161.7339,11.0093,162.7339,12.0093])\n",
    "epsg4326_bounds_tuvalu = np.array([176.7941,-8.6144,180,-6.9762])\n",
    "epsg4326_bounds_niulao = np.array([177.24250,-6.20757,177.44250,-6.00757])\n",
    "epsg4326_bounds_viti_levu=np.array([176.303,-18.991, 180,-16.026])\n",
    "epsg4326_bounds_taomaroa = np.array([176.72487,-2.73982,176.92487,-2.53982])\n",
    "epsg4326_bounds_nouvelle_caledonie=np.array([157.8054,-22.2446,160.0386,-18.5696])\n",
    "epsg4326_bounds_nikunau = np.array([175.93294,-1.45133,176.54619,-1.26088])\n",
    "epsg4326_bounds_majel = np.array([170.00179,12.13888,170.20179,12.33888])\n",
    "\n",
    "edges = {'chuckotka' : np.array([-180,50.696,-168.3,83.3]),\n",
    "'chuckotka2' : np.array([159.657,58.148,180,73.442]),\n",
    "'agattu' : np.array([172.3292,52.0630,176.3044,53.2292]),\n",
    "'pukapuka' : np.array([-163.621,-13.863,-162.621,-12.863]),\n",
    "'plamerston' : np.array([-163.6532,-18.5411,-162.6532,-17.5411]),\n",
    "'futuna' : np.array([-178.60509,-14.91163,-177.60509,-13.91163]),\n",
    "'vahen' : np.array([-176.13766,-16.10176,-175.13766,-15.10176]),\n",
    "'uvea' : np.array([-176.70106,-13.78761,-175.70106,-12.78761]),\n",
    "'tonga' : np.array([-175.6306,-21.0206,-173.6306,-19.0206]),\n",
    "'hunga' : np.array([-175.99074,-21.14193,-174.99074,-20.14193]),\n",
    "'tuvana' : np.array([-179.29184,-21.52716,-178.29184,-20.52716]),\n",
    "'tonga.atoll' : np.array([-179.5027,-24.2846,-178.5027,-23.2846]),\n",
    "'kermadec' : np.array([-179.2019,-30.7827,-177.2019,-28.7827]),\n",
    "'moutere' : np.array([168.66513,-53.04048,169.66513,-52.04048]),\n",
    "'newzealand.north' : np.array([172.122,-41.794,180,-33.825]),\n",
    "'okinotori' : np.array([135.977838,20.322660,136.177838,20.522660]),\n",
    "'yap' : np.array([139.88595,7.63592,140.88595,8.63592]),\n",
    "'yap2' : np.array([142.6412,6.4175,148.079,9.494]),\n",
    "'luf' : np.array([144.56444,-2.02959,145.56444,-1.02959]),\n",
    "'anewetak' : np.array([161.7339,11.0093,162.7339,12.0093]),\n",
    "'tuvalu' : np.array([176.7941,-8.6144,180,-6.9762]),\n",
    "'niulao' : np.array([177.24250,-6.20757,177.44250,-6.00757]),\n",
    "'viti.levu' :np.array([176.303,-18.991, 180,-16.026]),\n",
    "'taomaroa' : np.array([176.72487,-2.73982,176.92487,-2.53982]),\n",
    "'nouvelle.caledonie':np.array([157.8054,-22.2446,160.0386,-18.5696]),\n",
    "'nikunau' : np.array([175.93294,-1.45133,176.54619,-1.26088]),\n",
    "'majel' : np.array([170.00179,12.13888,170.20179,12.33888]),\n",
    "'pukapuka': np.array([-163.621,-13.863,-162.621,-12.863]),\n",
    "'muru' : np.array([169.750032,-11.711507,169.950032,-11.511507]),\n",
    "'fututaka': np.array([170.089185,-12.009242,170.289185,-11.809242])}\n",
    "\n",
    "args_special=[]\n",
    "for i in ['chuckotka','chuckotka2','agattu']:\n",
    "    epsg4326_bounds = edges[i]\n",
    "    equi7_bounds = find_equi_7_proj(epsg4326_bounds, equi7_ind['AS'])\n",
    "    args_special.append((equi7_bounds,equi7_bounds,epsg4326_bounds,equi7_bounds,epsg4326_bounds,f'extracont_{i}',equi7_ind['AS']))\n",
    "    \n",
    "for i in ['pukapuka','plamerston','futuna','vahen','uvea','tonga','hunga','tuvana','tonga.atoll','kermadec','moutere','newzealand.north','okinotori','yap','yap2','luf','anewetak','tuvalu','niulao','viti.levu','taomaroa','nouvelle.caledonie','nikunau','majel','muru','fututaka']:\n",
    "    epsg4326_bounds = edges[i]\n",
    "    equi7_bounds = find_equi_7_proj(epsg4326_bounds, equi7_ind['OC'])\n",
    "    args_special.append((equi7_bounds,equi7_bounds,epsg4326_bounds,equi7_bounds,epsg4326_bounds,f'extracont_{i}',equi7_ind['OC']))"
   ]
  },
  {
   "cell_type": "code",
   "execution_count": 30,
   "id": "19eb1c73-d5ab-4716-bca9-c8c874ae57a3",
   "metadata": {
    "tags": []
   },
   "outputs": [],
   "source": [
    "# save the tile list in pickle\n",
    "with open('equi7_tiles', 'wb') as f:\n",
    "    pickle.dump(args+args_special, f)"
   ]
  },
  {
   "cell_type": "code",
   "execution_count": 5,
   "id": "fc3e2c95-43f1-4cdd-bf21-a6fee1e607a2",
   "metadata": {
    "tags": []
   },
   "outputs": [
    {
     "ename": "NameError",
     "evalue": "name 'args' is not defined",
     "output_type": "error",
     "traceback": [
      "\u001b[0;31m---------------------------------------------------------------------------\u001b[0m",
      "\u001b[0;31mNameError\u001b[0m                                 Traceback (most recent call last)",
      "Cell \u001b[0;32mIn[5], line 2\u001b[0m\n\u001b[1;32m      1\u001b[0m \u001b[38;5;66;03m# total number of tiles\u001b[39;00m\n\u001b[0;32m----> 2\u001b[0m \u001b[38;5;28mlen\u001b[39m(\u001b[43margs\u001b[49m\u001b[38;5;241m+\u001b[39margs_special)\n",
      "\u001b[0;31mNameError\u001b[0m: name 'args' is not defined"
     ]
    }
   ],
   "source": [
    "# total number of tiles\n",
    "len(args+args_special)"
   ]
  }
 ],
 "metadata": {
  "kernelspec": {
   "display_name": "Python 3 (ipykernel)",
   "language": "python",
   "name": "python3"
  },
  "language_info": {
   "codemirror_mode": {
    "name": "ipython",
    "version": 3
   },
   "file_extension": ".py",
   "mimetype": "text/x-python",
   "name": "python",
   "nbconvert_exporter": "python",
   "pygments_lexer": "ipython3",
   "version": "3.8.16"
  }
 },
 "nbformat": 4,
 "nbformat_minor": 5
}
